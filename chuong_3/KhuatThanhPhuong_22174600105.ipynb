{
 "cells": [
  {
   "cell_type": "markdown",
   "id": "606b60ec",
   "metadata": {},
   "source": [
    "# Bài 1:  Hãy viết câu lệnh SQL để tính sự tương quan giữa A và B theo công thức"
   ]
  },
  {
   "cell_type": "code",
   "execution_count": null,
   "id": "5cbcdb53",
   "metadata": {},
   "outputs": [
    {
     "name": "stdout",
     "output_type": "stream",
     "text": [
      "Hệ số tương quan Pearson: 1.0\n"
     ]
    }
   ],
   "source": [
    "import sqlite3\n",
    "import math\n",
    "\n",
    "# Kết nối đến SQLite\n",
    "conn = sqlite3.connect(\":memory:\")\n",
    "cursor = conn.cursor()\n",
    "\n",
    "# Tạo bảng dữ liệu\n",
    "cursor.execute('''\n",
    "    CREATE TABLE data_table (\n",
    "        A REAL,\n",
    "        B REAL\n",
    "    )\n",
    "''')\n",
    "\n",
    "# Chèn dữ liệu mẫu vào bảng\n",
    "data = [(1, 2), (2, 3), (3, 4), (4, 5), (5, 6)]\n",
    "cursor.executemany(\"INSERT INTO data_table (A, B) VALUES (?, ?)\", data)\n",
    "conn.commit()\n",
    "\n",
    "# Truy vấn dữ liệu\n",
    "query = '''\n",
    "SELECT \n",
    "    COUNT(*) AS n,\n",
    "    SUM(A) AS sum_a,\n",
    "    SUM(B) AS sum_b,\n",
    "    SUM(A * B) AS sum_ab,\n",
    "    SUM(A * A) AS sum_a2,\n",
    "    SUM(B * B) AS sum_b2\n",
    "FROM data_table;\n",
    "'''\n",
    "\n",
    "cursor.execute(query)\n",
    "n, sum_a, sum_b, sum_ab, sum_a2, sum_b2 = cursor.fetchone()\n",
    "\n",
    "# Tính hệ số tương quan Pearson \n",
    "numerator = n * sum_ab - sum_a * sum_b\n",
    "denominator = math.sqrt((n * sum_a2 - sum_a**2) * (n * sum_b2 - sum_b**2))\n",
    "correlation = numerator / denominator if denominator != 0 else None\n",
    "\n",
    "print(\"Hệ số tương quan Pearson:\", correlation)\n",
    "\n",
    "# Đóng kết nối\n",
    "cursor.close()\n",
    "conn.close()"
   ]
  },
  {
   "cell_type": "markdown",
   "id": "57053324",
   "metadata": {},
   "source": [
    "Hệ số tương quan 1.0 cho thấy mối tương quan tuyến tính hoàn hảo và dương. Khi 1 biến tăng biến còn lại cũng sẽ tăng"
   ]
  },
  {
   "cell_type": "markdown",
   "id": "d113c5b3",
   "metadata": {},
   "source": [
    "# Bài 2:  Một công ty oto đang kiểm tra 3 loại mẫu mới A, B và C trong 4 ngày, và chấm điểm theo thang từ 1 đến 10 điểm cho mỗi ngày với bảng sau. Liệu có sự khác biệt đáng kể giữa các mẫu dựa trên điểm số mà chúng nhận được trong 4 ngày thử nghiệm không? Kết quả thử nghiệm phụ thuộc vào ngày hay phụ thuộc vào mẫu xe? Hãy chuyển đổi dữ liệu sang dạng quan hệ và thực hiện kiểm tra χ2"
   ]
  },
  {
   "cell_type": "code",
   "execution_count": 8,
   "id": "740f4f4e",
   "metadata": {},
   "outputs": [
    {
     "name": "stdout",
     "output_type": "stream",
     "text": [
      "Bảng dữ liệu:\n",
      " model    A    B    C\n",
      "day                 \n",
      "Day 1  8.0  9.0  7.0\n",
      "Day 2  7.5  8.5  7.0\n",
      "Day 3  6.0  7.0  8.0\n",
      "Day 4  7.0  6.0  5.0\n",
      "\n",
      "Thống kê Chi-Square: 0.826439691310499\n",
      "Giá trị P: 0.9913459315666546\n",
      "Bậc tự do: 6\n",
      "Tần suất kỳ vọng:\n",
      " [[7.95348837 8.51162791 7.53488372]\n",
      " [7.62209302 8.15697674 7.22093023]\n",
      " [6.95930233 7.44767442 6.59302326]\n",
      " [5.96511628 6.38372093 5.65116279]]\n"
     ]
    }
   ],
   "source": [
    "import scipy.stats as stats\n",
    "\n",
    "# Kết nối SQLite\n",
    "conn = sqlite3.connect(\":memory:\")\n",
    "cursor = conn.cursor()\n",
    "\n",
    "# Tạo bảng dữ liệu\n",
    "cursor.execute('''\n",
    "    CREATE TABLE car_scores (\n",
    "        day TEXT,\n",
    "        model TEXT,\n",
    "        score REAL\n",
    "    )\n",
    "''')\n",
    "\n",
    "data = [\n",
    "    (\"Day 1\", \"A\", 8), (\"Day 1\", \"B\", 9), (\"Day 1\", \"C\", 7),\n",
    "    (\"Day 2\", \"A\", 7.5), (\"Day 2\", \"B\", 8.5), (\"Day 2\", \"C\", 7),\n",
    "    (\"Day 3\", \"A\", 6), (\"Day 3\", \"B\", 7), (\"Day 3\", \"C\", 8),\n",
    "    (\"Day 4\", \"A\", 7), (\"Day 4\", \"B\", 6), (\"Day 4\", \"C\", 5)\n",
    "]\n",
    "\n",
    "# Chèn dữ liệu vào bảng\n",
    "cursor.executemany(\"INSERT INTO car_scores (day, model, score) VALUES (?, ?, ?)\", data)\n",
    "conn.commit()\n",
    "\n",
    "# Truy vấn dữ liệu\n",
    "query = '''\n",
    "SELECT * FROM car_scores\n",
    "'''\n",
    "df = pd.read_sql_query(query, conn)\n",
    "\n",
    "# Chuyển đổi dữ liệu sang pivot table\n",
    "pivot_table = df.pivot(index=\"day\", columns=\"model\", values=\"score\")\n",
    "\n",
    "# Thực hiện kiểm định Chi-Square (X^2)\n",
    "chi2, p_value, dof, expected = stats.chi2_contingency(pivot_table)\n",
    "\n",
    "# Hiển thị kết quả\n",
    "print(\"Bảng dữ liệu:\\n\", pivot_table)\n",
    "print(\"\\nThống kê Chi-Square:\", chi2)\n",
    "print(\"Giá trị P:\", p_value)\n",
    "print(\"Bậc tự do:\", dof)\n",
    "print(\"Tần suất kỳ vọng:\\n\", expected)\n",
    "\n",
    "# Đóng kết nối\n",
    "cursor.close()\n",
    "conn.close()"
   ]
  },
  {
   "cell_type": "markdown",
   "id": "2279b86a",
   "metadata": {},
   "source": [
    "Giá trị P rất cao (gần 1), cho thấy không có sự khác biệt có ý nghĩa thống kê giữa các mô hình A, B, và C. Nói cách khác, hiệu suất của ba mô hình không khác biệt đáng kể về mặt thống kê, mặc dù có sự dao động trong dữ liệu.\n",
    "\n",
    "Tần suất độ vòng cho thấy sự phân bố không đồng đều. Các độ vòng 6 và 7 chiếm ưu thế, trong khi độ vòng 5 và 8 ít xuất hiện hơn.\n",
    "Điều này có thể phản ánh rằng hiệu suất của các mô hình thường dao động ở mức trung bình (6, 7), hiếm khi đạt mức cao (8) hoặc thấp (5), phù hợp với dữ liệu điểm số."
   ]
  },
  {
   "cell_type": "markdown",
   "id": "caf30f5c",
   "metadata": {},
   "source": [
    "# Bài 3: Bảng flights (departure_time,…) chứa các giá trị thời gian dưới dạng số nguyên (ví dụ: 830 cho 8:30 AM, 1445 cho 2:45 PM). Hãy chuyển đổi các giá trị này thành định dạng thời gian"
   ]
  },
  {
   "cell_type": "code",
   "execution_count": 9,
   "id": "0cdbc135",
   "metadata": {},
   "outputs": [
    {
     "name": "stdout",
     "output_type": "stream",
     "text": [
      "(1, 830, '08:30 AM')\n",
      "(2, 1445, '02:45 PM')\n",
      "(3, 1230, '00:30 PM')\n",
      "(4, 700, '07:00 AM')\n",
      "(5, 2200, '10:00 PM')\n"
     ]
    }
   ],
   "source": [
    "# Kết nối SQLite\n",
    "conn = sqlite3.connect(\":memory:\")\n",
    "cursor = conn.cursor()\n",
    "\n",
    "# Tạo bảng flights\n",
    "cursor.execute(\"CREATE TABLE flights (id INTEGER PRIMARY KEY, departure_time INTEGER)\")\n",
    "\n",
    "# Chèn dữ liệu mẫu\n",
    "data = [(1, 830), (2, 1445), (3, 1230), (4, 700), (5, 2200)]\n",
    "cursor.executemany(\"INSERT INTO flights (id, departure_time) VALUES (?, ?)\", data)\n",
    "conn.commit()\n",
    "\n",
    "# Truy vấn và chuyển đổi thời gian\n",
    "query = \"\"\"\n",
    "SELECT id, departure_time,\n",
    "       printf('%02d:%02d %s', \n",
    "              departure_time / 100 % 12, \n",
    "              departure_time % 100, \n",
    "              CASE WHEN departure_time / 100 >= 12 THEN 'PM' ELSE 'AM' END\n",
    "       ) AS formatted_time\n",
    "FROM flights\n",
    "\"\"\"\n",
    "cursor.execute(query)\n",
    "\n",
    "# Hiển thị kết quả\n",
    "for row in cursor.fetchall():\n",
    "    print(row)\n",
    "\n",
    "# Đóng kết nối\n",
    "conn.close()"
   ]
  },
  {
   "cell_type": "markdown",
   "id": "2bd25474",
   "metadata": {},
   "source": [
    "Chuyển đổi sang định dạng 12h để dễ hiểu và dễ dàng quản lí thời gian hơn"
   ]
  },
  {
   "cell_type": "markdown",
   "id": "0f35a13d",
   "metadata": {},
   "source": [
    "# Bài 4:  Viết truy vấn SQL để tìm các ngoại lệ bằng cách sử dụng MAD. Một quy tắc chung là xem xét các giá trị ngoại lệ lớn hơn 1,5 lần so với giá trị MAD, trong đó x là số độ lệch chuẩn mà ta coi là có ý nghĩa."
   ]
  },
  {
   "cell_type": "code",
   "execution_count": 11,
   "id": "60908f7d",
   "metadata": {},
   "outputs": [
    {
     "name": "stdout",
     "output_type": "stream",
     "text": [
      "Ngoại lệ: [(7, 50.0)]\n"
     ]
    }
   ],
   "source": [
    "# Kết nối SQLite\n",
    "conn = sqlite3.connect(\":memory:\")\n",
    "cursor = conn.cursor()\n",
    "# Tạo bảng dữ liệu\n",
    "cursor.execute(\"CREATE TABLE data (id INTEGER PRIMARY KEY, value REAL)\")\n",
    "\n",
    "# Thêm dữ liệu mẫu\n",
    "data_values = [(1, 10), (2, 12), (3, 15), (4, 14), (5, 11), \n",
    "               (6, 13), (7, 50), (8, 14), (9, 12), (10, 13)]\n",
    "cursor.executemany(\"INSERT INTO data (id, value) VALUES (?, ?)\", data_values)\n",
    "conn.commit()\n",
    "\n",
    "# Truy vấn tính toán MAD và phát hiện ngoại lệ\n",
    "query = \"\"\"\n",
    "WITH median_calc AS (\n",
    "    SELECT value \n",
    "    FROM data\n",
    "    ORDER BY value\n",
    "    LIMIT 1 OFFSET (SELECT COUNT(*) / 2 FROM data)\n",
    "),\n",
    "stats AS (\n",
    "    SELECT \n",
    "        value,\n",
    "        ABS(value - (SELECT value FROM median_calc)) AS deviation\n",
    "    FROM data\n",
    "),\n",
    "mad_table AS (\n",
    "    SELECT AVG(deviation) AS mad FROM stats\n",
    ")\n",
    "SELECT d.id, d.value \n",
    "FROM data d, mad_table, median_calc\n",
    "WHERE ABS(d.value - median_calc.value) > 1.5 * mad_table.mad;\n",
    "\"\"\"\n",
    "cursor.execute(query)\n",
    "\n",
    "# Hiển thị ngoại lệ\n",
    "outliers = cursor.fetchall()\n",
    "print(\"Ngoại lệ:\", outliers)\n",
    "\n",
    "# Đóng kết nối\n",
    "conn.close()"
   ]
  },
  {
   "cell_type": "markdown",
   "id": "8d1d8ea2",
   "metadata": {},
   "source": [
    "Giá trị 50.0 là một ngoại lệ rõ rệt, vì nó khác biệt lớn so với phần còn lại của tập dữ liệu (các giá trị khác dao động từ 10 đến 15). Điều này có thể do lỗi nhập liệu, sự kiện bất thường, hoặc một đặc điểm đặc biệt của dữ liệu tại ID 7. Cần kiểm tra thêm để xác định nguyên nhân và quyết định cách xử lý (loại bỏ, điều chỉnh, hoặc giữ lại nếu có ý nghĩa đặc biệt)."
   ]
  },
  {
   "cell_type": "markdown",
   "id": "6721cc37",
   "metadata": {},
   "source": [
    "# Bài 5: Hãy xác định liệu hai người trong bảng Patient(last_name, weight, height) có phải là một người hay không bằng cách sử dụng khoảng cách kết hợp Boolean trên “last_name” và “weight”."
   ]
  },
  {
   "cell_type": "code",
   "execution_count": 16,
   "id": "b9e365d0",
   "metadata": {},
   "outputs": [
    {
     "name": "stdout",
     "output_type": "stream",
     "text": [
      "Patient 1 vs Patient 2: Đây là hai người khác nhau\n",
      "Patient 1 vs Patient 3: Cả hai là một người\n",
      "Patient 1 vs Patient 4: Đây là hai người khác nhau\n",
      "Patient 2 vs Patient 3: Đây là hai người khác nhau\n",
      "Patient 2 vs Patient 4: Đây là hai người khác nhau\n",
      "Patient 3 vs Patient 4: Đây là hai người khác nhau\n"
     ]
    }
   ],
   "source": [
    "# Kết nối đến cơ sở dữ liệu SQLite \n",
    "conn = sqlite3.connect('patients.db')\n",
    "cursor = conn.cursor()\n",
    "\n",
    "# Tạo bảng Patient\n",
    "cursor.execute('''\n",
    "CREATE TABLE IF NOT EXISTS Patient (\n",
    "    id INTEGER PRIMARY KEY AUTOINCREMENT,\n",
    "    last_name TEXT,\n",
    "    weight REAL,\n",
    "    height REAL\n",
    ")\n",
    "''')\n",
    "\n",
    "# Chèn một số dữ liệu mẫu vào bảng Patient\n",
    "cursor.execute('''\n",
    "INSERT OR IGNORE INTO Patient (last_name, weight, height)\n",
    "VALUES ('Nguyen', 70, 175),\n",
    "       ('Tran', 65, 160),\n",
    "       ('Nguyen', 70, 175),\n",
    "       ('Le', 80, 180)\n",
    "''')\n",
    "\n",
    "# Thực hiện truy vấn SQL để so sánh các bệnh nhân\n",
    "cursor.execute('''\n",
    "SELECT p1.id AS patient_id1, p2.id AS patient_id2,\n",
    "       CASE \n",
    "           WHEN p1.last_name = p2.last_name AND p1.weight = p2.weight THEN 'Cả hai là một người'\n",
    "           ELSE 'Đây là hai người khác nhau'\n",
    "       END AS comparison_result\n",
    "FROM Patient p1, Patient p2\n",
    "WHERE p1.id < p2.id\n",
    "''')\n",
    "\n",
    "results = cursor.fetchall()\n",
    "for row in results:\n",
    "    print(f\"Patient {row[0]} vs Patient {row[1]}: {row[2]}\")\n",
    "\n",
    "# Đóng kết nối\n",
    "conn.commit() \n",
    "conn.close()"
   ]
  },
  {
   "cell_type": "markdown",
   "id": "08aa4c87",
   "metadata": {},
   "source": [
    "Truy vấn đã xác định chính xác cặp bệnh nhân 1 và 3 có khả năng là cùng một người dựa trên tiêu chí last_name và weight. Điều này có thể hữu ích trong việc phát hiện dữ liệu trùng lặp."
   ]
  }
 ],
 "metadata": {
  "kernelspec": {
   "display_name": "base",
   "language": "python",
   "name": "python3"
  },
  "language_info": {
   "codemirror_mode": {
    "name": "ipython",
    "version": 3
   },
   "file_extension": ".py",
   "mimetype": "text/x-python",
   "name": "python",
   "nbconvert_exporter": "python",
   "pygments_lexer": "ipython3",
   "version": "3.12.7"
  }
 },
 "nbformat": 4,
 "nbformat_minor": 5
}
